{
 "cells": [
  {
   "cell_type": "code",
   "execution_count": 8,
   "id": "0dfd8f2d",
   "metadata": {},
   "outputs": [
    {
     "name": "stdout",
     "output_type": "stream",
     "text": [
      "enter total elements to be in the list :10\n",
      "enter the list element :6\n",
      "enter the list element :4\n",
      "enter the list element :5\n",
      "enter the list element :5\n",
      "enter the list element :8\n",
      "enter the list element :3\n",
      "enter the list element :9\n",
      "enter the list element :1\n",
      "enter the list element :4\n",
      "enter the list element :9\n",
      "[6, 4, 5, 5, 8, 3, 9, 1, 4, 9]\n",
      "Number whose sum equal to : 10\n",
      "Pairs with sum 10: [(4, 6), (5, 5), (1, 9), (4, 6), (9, 1)]\n"
     ]
    }
   ],
   "source": [
    "# Q1. Write a program to find all pairs of an integer array whose sum is equal to a given number?\n",
    "def find_pairs_with_sum(arr, target_sum):\n",
    "    pairs = []\n",
    "    seen = set()\n",
    "\n",
    "    for num in arr:\n",
    "        complement = target_sum - num\n",
    "        if complement in seen:\n",
    "            pairs.append((num, complement))\n",
    "        seen.add(num)\n",
    "\n",
    "    return pairs\n",
    "\n",
    "# Example usage:\n",
    "size = int(input(\"enter total elements to be in the list :\"))\n",
    "arr = []\n",
    "for i in range(0,size):\n",
    "    elements = int(input(\"enter the list element :\"))\n",
    "    arr.append(elements)\n",
    "print(arr)\n",
    "\n",
    "target_sum = int(input(\"Number whose sum equal to : \"))\n",
    "result = find_pairs_with_sum(arr, target_sum)\n",
    "\n",
    "if result:\n",
    "    print(f\"Pairs with sum {target_sum}: {result}\")\n",
    "else:\n",
    "    print(\"No pairs found with the given sum.\")"
   ]
  },
  {
   "cell_type": "code",
   "execution_count": 9,
   "id": "adae85be",
   "metadata": {},
   "outputs": [
    {
     "name": "stdout",
     "output_type": "stream",
     "text": [
      "enter total elements to be in the list :5\n",
      "enter the list element :1\n",
      "enter the list element :2\n",
      "enter the list element :3\n",
      "enter the list element :4\n",
      "enter the list element :5\n",
      "[1, 2, 3, 4, 5]\n",
      "Original array: [1, 2, 3, 4, 5]\n",
      "Reversed array: [5, 4, 3, 2, 1]\n"
     ]
    }
   ],
   "source": [
    "# Q2. Write a program to reverse an array in place? In place means you cannot create a new array.\n",
    "def reverse_array_in_place(arr):\n",
    "    left = 0\n",
    "    right = len(arr) - 1\n",
    "\n",
    "    while left < right:\n",
    "        # Swap elements at the left and right positions\n",
    "        arr[left], arr[right] = arr[right], arr[left]\n",
    "        left += 1\n",
    "        right -= 1\n",
    "\n",
    "# Example usage:\n",
    "size = int(input(\"enter total elements to be in the list :\"))\n",
    "arr = []\n",
    "for i in range(0,size):\n",
    "    elements = int(input(\"enter the list element :\"))\n",
    "    arr.append(elements)\n",
    "print(arr)\n",
    "\n",
    "print(\"Original array:\", arr)\n",
    "\n",
    "reverse_array_in_place(arr)\n",
    "print(\"Reversed array:\", arr)\n"
   ]
  },
  {
   "cell_type": "code",
   "execution_count": 12,
   "id": "e5ff2466",
   "metadata": {},
   "outputs": [
    {
     "name": "stdout",
     "output_type": "stream",
     "text": [
      "string 1 : viki\n",
      "string 2 : ikiv\n",
      "Yes, these strings are rotations of each other.\n"
     ]
    }
   ],
   "source": [
    "# Q3. Write a program to check if two strings are a rotation of each other?\n",
    "def are_rotations(str1, str2):\n",
    "    # Check if the lengths of both strings are the same\n",
    "    if len(str1) != len(str2):\n",
    "        return False\n",
    "\n",
    "    # Concatenate str1 with itself\n",
    "    concatenated_str = str1 + str1\n",
    "\n",
    "    # Check if str2 is a substring of the concatenated string\n",
    "    if str2 in concatenated_str:\n",
    "        return True\n",
    "\n",
    "    return False\n",
    "\n",
    "# Example usage:\n",
    "string1 = input(\"string 1 : \")\n",
    "string2 = input(\"string 2 : \")\n",
    "\n",
    "if are_rotations(string1, string2):\n",
    "    print(\"Yes, these strings are rotations of each other.\")\n",
    "else:\n",
    "    print(\"No, these strings are not rotations of each other.\")\n"
   ]
  },
  {
   "cell_type": "code",
   "execution_count": 15,
   "id": "17c58f5d",
   "metadata": {},
   "outputs": [
    {
     "name": "stdout",
     "output_type": "stream",
     "text": [
      "string : ggood\n",
      "The first non-repeated character is: d\n"
     ]
    }
   ],
   "source": [
    "# Q4. Write a program to print the first non-repeated character from a string?\n",
    "def first_non_repeated_char(input_string):\n",
    "    char_count = {}\n",
    "\n",
    "    # Count the occurrences of each character in the string\n",
    "    for char in input_string:\n",
    "        if char in char_count:\n",
    "            char_count[char] += 1\n",
    "        else:\n",
    "            char_count[char] = 1\n",
    "\n",
    "    # Find the first non-repeated character\n",
    "    for char in input_string:\n",
    "        if char_count[char] == 1:\n",
    "            return char\n",
    "\n",
    "    # If there are no non-repeated characters, return None\n",
    "    return None\n",
    "\n",
    "# Example usage:\n",
    "input_str = input(\"string : \")\n",
    "result = first_non_repeated_char(input_str)\n",
    "\n",
    "if result is not None:\n",
    "    print(\"The first non-repeated character is:\", result)\n",
    "else:\n",
    "    print(\"There are no non-repeated characters in the string.\")\n"
   ]
  },
  {
   "cell_type": "code",
   "execution_count": 18,
   "id": "38c2af17",
   "metadata": {},
   "outputs": [
    {
     "name": "stdout",
     "output_type": "stream",
     "text": [
      "string : racecar\n",
      "racecar is a palindrome.\n"
     ]
    }
   ],
   "source": [
    "#Q5. Write a recursive function to check if a given string is a palindrome.\n",
    "def is_palindrome(input_str):\n",
    "    # Base case: an empty string or a string with a single character is a palindrome.\n",
    "    if len(input_str) <= 1:\n",
    "        return True\n",
    "\n",
    "    # Compare the first and last characters and check the remaining substring.\n",
    "    first_char = input_str[0]\n",
    "    last_char = input_str[-1]\n",
    "\n",
    "    # If the first and last characters are equal, check the substring without these characters.\n",
    "    if first_char == last_char:\n",
    "        return is_palindrome(input_str[1:-1])\n",
    "\n",
    "    # If the first and last characters are not equal, it's not a palindrome.\n",
    "    return False\n",
    "\n",
    "# Example usage:\n",
    "input_str = input(\"string : \")\n",
    "if is_palindrome(input_str):\n",
    "    print(f\"{input_str} is a palindrome.\")\n",
    "else:\n",
    "    print(f\"{input_str} is not a palindrome.\")\n"
   ]
  },
  {
   "cell_type": "code",
   "execution_count": 21,
   "id": "87ff5bb6",
   "metadata": {},
   "outputs": [
    {
     "name": "stdout",
     "output_type": "stream",
     "text": [
      "postfix expression : 23+\n",
      "Prefix expression: +23\n"
     ]
    }
   ],
   "source": [
    "#Q6. Read about infix, prefix, and postfix expressions. Write a program to convert postfix to prefix expression.\n",
    "def postfix_to_prefix(postfix):\n",
    "    stack = []\n",
    "    operators = set(['+', '-', '*', '/', '^'])\n",
    "\n",
    "    for symbol in postfix:\n",
    "        if symbol not in operators:\n",
    "            stack.append(symbol)\n",
    "        else:\n",
    "            operand2 = stack.pop()\n",
    "            operand1 = stack.pop()\n",
    "            expression = symbol + operand1 + operand2\n",
    "            stack.append(expression)\n",
    "\n",
    "    # The final element in the stack is the prefix expression\n",
    "    return stack[0]\n",
    "\n",
    "# Example usage:\n",
    "postfix_expression = input(\"postfix expression : \")\n",
    "prefix_expression = postfix_to_prefix(postfix_expression)\n",
    "print(\"Prefix expression:\", prefix_expression)\n"
   ]
  },
  {
   "cell_type": "code",
   "execution_count": 22,
   "id": "bb10722c",
   "metadata": {},
   "outputs": [
    {
     "name": "stdout",
     "output_type": "stream",
     "text": [
      "prefix expression : +23\n",
      "Infix expression: (2+3)\n"
     ]
    }
   ],
   "source": [
    "#Q7. Write a program to convert prefix expression to infix expression.\n",
    "def is_operator(char):\n",
    "    return char in \"+-*/\"\n",
    "\n",
    "def prefix_to_infix(prefix):\n",
    "    stack = []\n",
    "    \n",
    "    # Iterate through the expression in reverse order\n",
    "    for char in reversed(prefix):\n",
    "        if not is_operator(char):\n",
    "            stack.append(char)\n",
    "        else:\n",
    "            operand1 = stack.pop()\n",
    "            operand2 = stack.pop()\n",
    "            infix_expression = f\"({operand1}{char}{operand2})\"\n",
    "            stack.append(infix_expression)\n",
    "    \n",
    "    # The result is the final element in the stack\n",
    "    return stack[0]\n",
    "\n",
    "# Example usage:\n",
    "prefix_expression = input(\"prefix expression : \")\n",
    "infix_expression = prefix_to_infix(prefix_expression)\n",
    "print(\"Infix expression:\", infix_expression)\n"
   ]
  },
  {
   "cell_type": "code",
   "execution_count": 25,
   "id": "dd899e80",
   "metadata": {},
   "outputs": [
    {
     "name": "stdout",
     "output_type": "stream",
     "text": [
      "your code : if (x > 0) { y = x; }\n",
      "All brackets are properly closed.\n"
     ]
    }
   ],
   "source": [
    "#Q8. Write a program to check if all the brackets are closed in a given code snippet.\n",
    "def are_brackets_balanced(code):\n",
    "    stack = []\n",
    "    opening_brackets = \"({[\"\n",
    "    closing_brackets = \")}]\"\n",
    "    bracket_pairs = {\")\": \"(\", \"}\": \"{\", \"]\": \"[\"}\n",
    "\n",
    "    for char in code:\n",
    "        if char in opening_brackets:\n",
    "            stack.append(char)\n",
    "        elif char in closing_brackets:\n",
    "            if not stack or stack[-1] != bracket_pairs[char]:\n",
    "                return False\n",
    "            stack.pop()\n",
    "\n",
    "    return len(stack) == 0\n",
    "\n",
    "# Example usage:\n",
    "code_snippet = input(\"your code : \")\n",
    "if are_brackets_balanced(code_snippet):\n",
    "    print(\"All brackets are properly closed.\")\n",
    "else:\n",
    "    print(\"Brackets are not properly closed.\")\n"
   ]
  },
  {
   "cell_type": "code",
   "execution_count": 31,
   "id": "71dcd9a4",
   "metadata": {},
   "outputs": [
    {
     "name": "stdout",
     "output_type": "stream",
     "text": [
      "Original Stack:\n",
      "4\n",
      "3\n",
      "2\n",
      "1\n",
      "\n",
      "Reversed Stack:\n",
      "1\n",
      "2\n",
      "3\n",
      "4\n"
     ]
    }
   ],
   "source": [
    "#Q9. Write a program to reverse a stack.\n",
    "class Stack:\n",
    "    def __init__(self):\n",
    "        self.items = []\n",
    "\n",
    "    def is_empty(self):\n",
    "        return len(self.items) == 0\n",
    "\n",
    "    def push(self, item):\n",
    "        self.items.append(item)\n",
    "\n",
    "    def pop(self):\n",
    "        if not self.is_empty():\n",
    "            return self.items.pop()\n",
    "        else:\n",
    "            raise IndexError(\"Stack is empty\")\n",
    "\n",
    "    def peek(self):\n",
    "        if not self.is_empty():\n",
    "            return self.items[-1]\n",
    "        else:\n",
    "            raise IndexError(\"Stack is empty\")\n",
    "\n",
    "    def size(self):\n",
    "        return len(self.items)\n",
    "\n",
    "def reverse_stack(stack):\n",
    "    aux_stack = Stack()\n",
    "\n",
    "    print(\"Original Stack:\")\n",
    "    while not stack.is_empty():\n",
    "        item = stack.pop()\n",
    "        aux_stack.push(item)\n",
    "        print(item)\n",
    "\n",
    "    print(\"\\nReversed Stack:\")\n",
    "    while not aux_stack.is_empty():\n",
    "        item = aux_stack.pop()\n",
    "        stack.push(item)\n",
    "        print(item)\n",
    "\n",
    "# Example usage:\n",
    "original_stack = Stack()\n",
    "original_stack.push(1)\n",
    "original_stack.push(2)\n",
    "original_stack.push(3)\n",
    "original_stack.push(4)\n",
    "\n",
    "reverse_stack(original_stack)\n"
   ]
  },
  {
   "cell_type": "code",
   "execution_count": 37,
   "id": "109eea3c",
   "metadata": {},
   "outputs": [
    {
     "name": "stdout",
     "output_type": "stream",
     "text": [
      "Smallest number in the stack: 1\n"
     ]
    }
   ],
   "source": [
    "#Q10. Write a program to find the smallest number using a stack.\n",
    "class Stack:\n",
    "    def __init__(self):\n",
    "        self.items = []\n",
    "        self.min_value = None\n",
    "\n",
    "    def is_empty(self):\n",
    "        return len(self.items) == 0\n",
    "\n",
    "    def push(self, item):\n",
    "        if self.min_value is None or item < self.min_value:\n",
    "            self.min_value = item\n",
    "        self.items.append(item)\n",
    "\n",
    "    def pop(self):\n",
    "        if not self.is_empty():\n",
    "            popped = self.items.pop()\n",
    "            if popped == self.min_value:\n",
    "                if not self.is_empty():\n",
    "                    self.min_value = min(self.items)\n",
    "                else:\n",
    "                    self.min_value = None\n",
    "            return popped\n",
    "        else:\n",
    "            raise IndexError(\"Stack is empty\")\n",
    "\n",
    "    def get_min(self):\n",
    "        if self.min_value is not None:\n",
    "            return self.min_value\n",
    "        else:\n",
    "            raise ValueError(\"Stack is empty\")\n",
    "\n",
    "# Example usage:\n",
    "stack = Stack()\n",
    "stack.push(5)\n",
    "stack.push(2)\n",
    "stack.push(7)\n",
    "stack.push(1)\n",
    "stack.push(8)\n",
    "\n",
    "print(\"Smallest number in the stack:\", stack.get_min())\n"
   ]
  },
  {
   "cell_type": "code",
   "execution_count": null,
   "id": "91d631b1",
   "metadata": {},
   "outputs": [],
   "source": []
  }
 ],
 "metadata": {
  "kernelspec": {
   "display_name": "Python 3 (ipykernel)",
   "language": "python",
   "name": "python3"
  },
  "language_info": {
   "codemirror_mode": {
    "name": "ipython",
    "version": 3
   },
   "file_extension": ".py",
   "mimetype": "text/x-python",
   "name": "python",
   "nbconvert_exporter": "python",
   "pygments_lexer": "ipython3",
   "version": "3.10.9"
  }
 },
 "nbformat": 4,
 "nbformat_minor": 5
}
